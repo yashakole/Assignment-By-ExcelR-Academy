{
  "nbformat": 4,
  "nbformat_minor": 0,
  "metadata": {
    "colab": {
      "provenance": []
    },
    "kernelspec": {
      "name": "python3",
      "display_name": "Python 3"
    },
    "language_info": {
      "name": "python"
    }
  },
  "cells": [
    {
      "cell_type": "markdown",
      "source": [
        "**PYTHON PROGRAMMING ASSIGNMENT\n",
        "Coding Exercises**\n",
        "\n"
      ],
      "metadata": {
        "id": "W0q66iXVNPeJ"
      }
    },
    {
      "cell_type": "markdown",
      "source": [
        "**Exercise 1:\n",
        "Prime Numbers**\n",
        "Write a Python program that checks whether a given number is prime or not. A prime number is a natural number greater than 1 that has no positive divisors other than 1 and itself."
      ],
      "metadata": {
        "id": "84nE0RS_NTmH"
      }
    },
    {
      "cell_type": "code",
      "source": [
        "def is_prime(n):\n",
        "    if n < 2:\n",
        "        return False\n",
        "    for i in range(2, int(n**0.5) + 1):  # Check divisibility up to sqrt(n)\n",
        "        if n % i == 0:\n",
        "            return False\n",
        "    return True\n",
        "\n",
        "num = int(input(\"Enter a number: \"))\n",
        "\n",
        "if is_prime(num):\n",
        "    print(f\"{num} is a prime number.\")\n",
        "else:\n",
        "    print(f\"{num} is not a prime number.\")\n"
      ],
      "metadata": {
        "colab": {
          "base_uri": "https://localhost:8080/"
        },
        "id": "Rc6L68AlNSiJ",
        "outputId": "c94fd749-3a08-4399-9685-097047a14333"
      },
      "execution_count": 17,
      "outputs": [
        {
          "output_type": "stream",
          "name": "stdout",
          "text": [
            "Enter a number: 2\n",
            "2 is a prime number.\n"
          ]
        }
      ]
    },
    {
      "cell_type": "markdown",
      "source": [
        "**Exercise 2: Product of Random Numbers**\n",
        "Develop a Python program that generates two random numbers and asks the user to enter the product of these numbers. The program should then check if the user's answer is correct and display an appropriate message."
      ],
      "metadata": {
        "id": "RPgUTggGQp_j"
      }
    },
    {
      "cell_type": "code",
      "source": [
        "import random\n",
        "\n",
        "num1 = random.randint(1, 10)\n",
        "num2 = random.randint(1, 10)\n",
        "\n",
        "correct_product = num1 * num2\n",
        "\n",
        "user_answer = int(input(f\"What is {num1} × {num2}? \"))\n",
        "\n",
        "if user_answer == correct_product:\n",
        "    print(\"Correct! Well done.\")\n",
        "else:\n",
        "    print(f\"Incorrect. The correct answer is {correct_product}.\")\n"
      ],
      "metadata": {
        "colab": {
          "base_uri": "https://localhost:8080/"
        },
        "id": "NEvfsUKXOMv8",
        "outputId": "390c2944-0de5-4c36-e560-709e9f2a66e3"
      },
      "execution_count": 18,
      "outputs": [
        {
          "output_type": "stream",
          "name": "stdout",
          "text": [
            "What is 7 × 1? 7\n",
            "Correct! Well done.\n"
          ]
        }
      ]
    },
    {
      "cell_type": "markdown",
      "source": [
        "**Exercise 3: Squares of Even/Odd Numbers**\n",
        "Create a Python script that prints the squares of all even or odd numbers within the range of 100 to 200. Choose either even or odd numbers and document your choice in the code.\n"
      ],
      "metadata": {
        "id": "fX3gojJ_RCq0"
      }
    },
    {
      "cell_type": "code",
      "source": [
        "for num in range(100, 201):\n",
        "   if num % 2 == 0:\n",
        "        print(f\"{num}² = {num ** 2}\")\n",
        ""
      ],
      "metadata": {
        "colab": {
          "base_uri": "https://localhost:8080/"
        },
        "id": "o9UfyX-jREYV",
        "outputId": "14454714-ef83-4d96-aaf9-817ce966ac4e"
      },
      "execution_count": 22,
      "outputs": [
        {
          "output_type": "stream",
          "name": "stdout",
          "text": [
            "100² = 10000\n",
            "102² = 10404\n",
            "104² = 10816\n",
            "106² = 11236\n",
            "108² = 11664\n",
            "110² = 12100\n",
            "112² = 12544\n",
            "114² = 12996\n",
            "116² = 13456\n",
            "118² = 13924\n",
            "120² = 14400\n",
            "122² = 14884\n",
            "124² = 15376\n",
            "126² = 15876\n",
            "128² = 16384\n",
            "130² = 16900\n",
            "132² = 17424\n",
            "134² = 17956\n",
            "136² = 18496\n",
            "138² = 19044\n",
            "140² = 19600\n",
            "142² = 20164\n",
            "144² = 20736\n",
            "146² = 21316\n",
            "148² = 21904\n",
            "150² = 22500\n",
            "152² = 23104\n",
            "154² = 23716\n",
            "156² = 24336\n",
            "158² = 24964\n",
            "160² = 25600\n",
            "162² = 26244\n",
            "164² = 26896\n",
            "166² = 27556\n",
            "168² = 28224\n",
            "170² = 28900\n",
            "172² = 29584\n",
            "174² = 30276\n",
            "176² = 30976\n",
            "178² = 31684\n",
            "180² = 32400\n",
            "182² = 33124\n",
            "184² = 33856\n",
            "186² = 34596\n",
            "188² = 35344\n",
            "190² = 36100\n",
            "192² = 36864\n",
            "194² = 37636\n",
            "196² = 38416\n",
            "198² = 39204\n",
            "200² = 40000\n"
          ]
        }
      ]
    },
    {
      "cell_type": "markdown",
      "source": [
        "**Exercise 4: Word counter**\n",
        "write a program to count the number of words in a given text.\n",
        "example:\n",
        "input_text = \"This is a sample text. This text will be used to demonstrate the word counter.\"\n"
      ],
      "metadata": {
        "id": "YILBRLlpSEmD"
      }
    },
    {
      "cell_type": "code",
      "source": [
        "from collections import Counter\n",
        "\n",
        "def word_counter(text):\n",
        "    words = text.split()\n",
        "    word_freq = Counter(words)\n",
        "\n",
        "    for word, count in word_freq.items():\n",
        "        print(f\"'{word}': {count}\")\n",
        "\n",
        "input_text = \"This is a sample text. This text will be used to demonstrate the word counter.\"\n",
        "\n",
        "word_counter(input_text)\n",
        "\n"
      ],
      "metadata": {
        "colab": {
          "base_uri": "https://localhost:8080/"
        },
        "id": "i4-rFNL9RNmZ",
        "outputId": "b057321d-910d-4419-e2db-a236f94fa474"
      },
      "execution_count": 25,
      "outputs": [
        {
          "output_type": "stream",
          "name": "stdout",
          "text": [
            "'This': 2\n",
            "'is': 1\n",
            "'a': 1\n",
            "'sample': 1\n",
            "'text.': 1\n",
            "'text': 1\n",
            "'will': 1\n",
            "'be': 1\n",
            "'used': 1\n",
            "'to': 1\n",
            "'demonstrate': 1\n",
            "'the': 1\n",
            "'word': 1\n",
            "'counter.': 1\n"
          ]
        }
      ]
    },
    {
      "cell_type": "markdown",
      "source": [
        "**Exercise 5: Check for Palindrome**\n",
        "Write a Python function called is_palindrome that takes a string as input and returns True if the string is a palindrome, and False otherwise. A palindrome is a word, phrase, number, or other sequence of characters that reads the same forward and backward, ignoring spaces, punctuation, and capitalization.\n",
        "Example:\n",
        "Input: \"racecar\"\n",
        "Expected Output: True\n"
      ],
      "metadata": {
        "id": "PVejxeFbvMoI"
      }
    },
    {
      "cell_type": "code",
      "source": [
        "import re\n",
        "\n",
        "def is_palindrome(s):\n",
        "    cleaned_s = re.sub(r'[^a-zA-Z0-9]', '', s).lower()\n",
        "\n",
        "    return cleaned_s == cleaned_s[::-1]\n",
        "\n",
        "input_text = \"racecar\"\n",
        "print(is_palindrome(input_text))"
      ],
      "metadata": {
        "colab": {
          "base_uri": "https://localhost:8080/"
        },
        "id": "DH_aCDC6SThO",
        "outputId": "d1b7546e-5fb3-446c-9837-0e01e5c0b687"
      },
      "execution_count": 2,
      "outputs": [
        {
          "output_type": "stream",
          "name": "stdout",
          "text": [
            "True\n"
          ]
        }
      ]
    },
    {
      "cell_type": "code",
      "source": [],
      "metadata": {
        "id": "MVwJt29kvR2o"
      },
      "execution_count": null,
      "outputs": []
    }
  ]
}