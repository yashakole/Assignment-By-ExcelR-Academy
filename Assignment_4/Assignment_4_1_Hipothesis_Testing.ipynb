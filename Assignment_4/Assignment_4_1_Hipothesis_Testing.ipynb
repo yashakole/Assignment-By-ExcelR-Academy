{
  "nbformat": 4,
  "nbformat_minor": 0,
  "metadata": {
    "colab": {
      "provenance": []
    },
    "kernelspec": {
      "name": "python3",
      "display_name": "Python 3"
    },
    "language_info": {
      "name": "python"
    }
  },
  "cells": [
    {
      "cell_type": "markdown",
      "source": [
        "Background:\n",
        "Bombay hospitality Ltd. operates a franchise model for producing exotic Norwegian dinners throughout New England. The operating cost for a franchise in a week (W) is given by the equation W = $1,000 + $5X, where X represents the number of units produced in a week. Recent feedback from restaurant owners suggests that this cost model may no longer be accurate, as\n",
        "their observed weekly operating costs are higher.\n",
        "Objective:\n",
        "To investigate the restaurant owners' claim about the increase in weekly operating costs using hypothesis testing.\n",
        "Data Provided:\n",
        "•\tThe theoretical weekly operating cost model: W = $1,000 + $5X\n",
        "•\tSample of 25 restaurants with a mean weekly cost of Rs. 3,050\n",
        "•\tNumber of units produced in a week (X) follows a normal distribution with a mean (μ) of 600 units and a standard deviation (σ) of 25 units\n"
      ],
      "metadata": {
        "id": "4NYnsonWvptn"
      }
    },
    {
      "cell_type": "code",
      "execution_count": null,
      "metadata": {
        "id": "Za4J1cUDvSs_"
      },
      "outputs": [],
      "source": []
    },
    {
      "cell_type": "markdown",
      "source": [
        "Q1. State the Hypothesis Statement"
      ],
      "metadata": {
        "id": "C37m3vTEv-f-"
      }
    },
    {
      "cell_type": "code",
      "source": [
        "#Null Hypothesis = Predicted price is accurate\n",
        "#Alternative Hypothesis = Actual cost is higher than predicted cost\n"
      ],
      "metadata": {
        "id": "pO0aeNT9vqxV"
      },
      "execution_count": 1,
      "outputs": []
    },
    {
      "cell_type": "markdown",
      "source": [
        "Q2. Calculate the Test Statistic:"
      ],
      "metadata": {
        "id": "W8vMv-V8wMLN"
      }
    },
    {
      "cell_type": "code",
      "source": [
        "import pandas as pd\n",
        "import numpy as np\n",
        "import scipy.stats as stats"
      ],
      "metadata": {
        "id": "dTmiijvgwIn2"
      },
      "execution_count": 2,
      "outputs": []
    },
    {
      "cell_type": "code",
      "source": [
        "sample_mean = 3050\n",
        "X_mean = 600\n",
        "theoretical_mean = 1000 + (5 * X_mean)\n",
        "sigma_X = 25\n",
        "sigma = 5 * sigma_X\n",
        "sample_size = 25\n",
        "alpha = 0.05"
      ],
      "metadata": {
        "id": "wxT5r35vwPBD"
      },
      "execution_count": 3,
      "outputs": []
    },
    {
      "cell_type": "code",
      "source": [
        "standard_error = sigma / np.sqrt(sample_size)\n",
        "standard_error"
      ],
      "metadata": {
        "colab": {
          "base_uri": "https://localhost:8080/"
        },
        "id": "FuAGCihow-iV",
        "outputId": "b0d1b5b4-25fe-40b3-b6b2-748de8ee7a64"
      },
      "execution_count": 5,
      "outputs": [
        {
          "output_type": "execute_result",
          "data": {
            "text/plain": [
              "np.float64(25.0)"
            ]
          },
          "metadata": {},
          "execution_count": 5
        }
      ]
    },
    {
      "cell_type": "code",
      "source": [
        "test_statistic = (sample_mean - theoretical_mean) / standard_error\n",
        "test_statistic"
      ],
      "metadata": {
        "colab": {
          "base_uri": "https://localhost:8080/"
        },
        "id": "_fCvgh3Jw0HQ",
        "outputId": "12c0de1a-e299-416a-8022-952cc81d2e5e"
      },
      "execution_count": 8,
      "outputs": [
        {
          "output_type": "execute_result",
          "data": {
            "text/plain": [
              "np.float64(-38.0)"
            ]
          },
          "metadata": {},
          "execution_count": 8
        }
      ]
    },
    {
      "cell_type": "markdown",
      "source": [
        "Q3. Determine the Critical Value:"
      ],
      "metadata": {
        "id": "6vhxP1DPxjrj"
      }
    },
    {
      "cell_type": "code",
      "source": [
        "critical_value = stats.t.ppf(1 - alpha, df=sample_size - 1)\n",
        "critical_value"
      ],
      "metadata": {
        "colab": {
          "base_uri": "https://localhost:8080/"
        },
        "id": "CrqYzmqmxIQ0",
        "outputId": "c003f779-9347-421f-bae8-3f7007a271c4"
      },
      "execution_count": 9,
      "outputs": [
        {
          "output_type": "execute_result",
          "data": {
            "text/plain": [
              "np.float64(1.7108820799094275)"
            ]
          },
          "metadata": {},
          "execution_count": 9
        }
      ]
    },
    {
      "cell_type": "markdown",
      "source": [
        "Q4. Make a Decision:"
      ],
      "metadata": {
        "id": "4vXUcmTSx45_"
      }
    },
    {
      "cell_type": "code",
      "source": [
        "if test_statistic > critical_value:\n",
        "    decision = \"Reject null hypothesis\"\n",
        "    conclusion = \"Actual weekly operating costs are higher.\"\n",
        "else:\n",
        "    decision = \"Fail to reject null hypothesis\"\n",
        "    conclusion = \"There is not enough evidence to say the actual costs are higher.\""
      ],
      "metadata": {
        "id": "y2XxdnL4xnyz"
      },
      "execution_count": 11,
      "outputs": []
    },
    {
      "cell_type": "markdown",
      "source": [
        "Q5. Conclusion\n"
      ],
      "metadata": {
        "id": "V3-xCgw1Djuq"
      }
    },
    {
      "cell_type": "code",
      "source": [
        "print(f\"Test Statistic (t): {t_statistic:.4f}\")\n",
        "print(f\"Critical Value: {critical_value:.4f}\")\n",
        "print(f\"Decision: {decision}\")\n",
        "print(f\"Conclusion: {conclusion}\")"
      ],
      "metadata": {
        "colab": {
          "base_uri": "https://localhost:8080/"
        },
        "id": "0wsEAok2x9Kn",
        "outputId": "62a57f57-1e02-46cc-8262-e1c49688ba85"
      },
      "execution_count": 12,
      "outputs": [
        {
          "output_type": "stream",
          "name": "stdout",
          "text": [
            "Test Statistic (t): -38.0000\n",
            "Critical Value: 1.7109\n",
            "Decision: Fail to reject null hypothesis\n",
            "Conclusion: There is not enough evidence to say the actual costs are higher.\n"
          ]
        }
      ]
    },
    {
      "cell_type": "code",
      "source": [],
      "metadata": {
        "id": "QAssC8jTywoZ"
      },
      "execution_count": null,
      "outputs": []
    }
  ]
}
