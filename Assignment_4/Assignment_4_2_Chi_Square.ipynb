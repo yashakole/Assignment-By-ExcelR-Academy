{
  "nbformat": 4,
  "nbformat_minor": 0,
  "metadata": {
    "colab": {
      "provenance": []
    },
    "kernelspec": {
      "name": "python3",
      "display_name": "Python 3"
    },
    "language_info": {
      "name": "python"
    }
  },
  "cells": [
    {
      "cell_type": "code",
      "execution_count": 7,
      "metadata": {
        "id": "Wki7EUYYD6Cp"
      },
      "outputs": [],
      "source": [
        "import scipy.stats as stats\n",
        "import numpy as np"
      ]
    },
    {
      "cell_type": "code",
      "source": [
        "#Q1.State the Hypotheses\n",
        "#Null Hypothesis (H₀): There is no association between device type and customer satisfaction.\n",
        "#Alternative Hypothesis (H₁): There is an association between device type and customer satisfaction."
      ],
      "metadata": {
        "id": "0EKUN-lKG5S1"
      },
      "execution_count": null,
      "outputs": []
    },
    {
      "cell_type": "code",
      "source": [
        "data = np.array([\n",
        "    [50, 70],  # Very Satisfied\n",
        "    [80, 100],  # Satisfied\n",
        "    [60, 90],  # Neutral\n",
        "    [30, 50],  # Unsatisfied\n",
        "    [20, 50]   # Very Unsatisfied\n",
        "])"
      ],
      "metadata": {
        "id": "zr6zG_x9GzQJ"
      },
      "execution_count": 8,
      "outputs": []
    },
    {
      "cell_type": "code",
      "source": [
        "#Q2.Perform the Chi-Square test\n",
        "chi2_stat, p_value, dof, expected = stats.chi2_contingency(data)\n",
        "chi2_stat"
      ],
      "metadata": {
        "colab": {
          "base_uri": "https://localhost:8080/"
        },
        "id": "lLhEGUYxGkTa",
        "outputId": "04b66f20-56d1-4ca6-d283-2066a210ce08"
      },
      "execution_count": 9,
      "outputs": [
        {
          "output_type": "execute_result",
          "data": {
            "text/plain": [
              "np.float64(5.638227513227513)"
            ]
          },
          "metadata": {},
          "execution_count": 9
        }
      ]
    },
    {
      "cell_type": "code",
      "source": [
        "#Q3.Find the critical value\n",
        "alpha = 0.05  # Significance level\n",
        "critical_value = stats.chi2.ppf(1 - alpha, df=dof)\n",
        "critical_value"
      ],
      "metadata": {
        "colab": {
          "base_uri": "https://localhost:8080/"
        },
        "id": "Qhr-BvY_Gm7p",
        "outputId": "75414cf3-6cb4-49ca-8c6c-245398df67a1"
      },
      "execution_count": 10,
      "outputs": [
        {
          "output_type": "execute_result",
          "data": {
            "text/plain": [
              "np.float64(9.487729036781154)"
            ]
          },
          "metadata": {},
          "execution_count": 10
        }
      ]
    },
    {
      "cell_type": "code",
      "source": [
        "#Q4. Compare test statistic with critical value\n",
        "if chi2_stat > critical_value:\n",
        "    decision = \"Reject the null hypothesis\"\n",
        "    conclusion = \"The type of device affects customer satisfaction.\"\n",
        "else:\n",
        "    decision = \"Fail to reject the null hypothesis\"\n",
        "    conclusion = \"There is no clear link between device type and customer satisfaction.\""
      ],
      "metadata": {
        "id": "QPE_RbmWGobs"
      },
      "execution_count": 4,
      "outputs": []
    },
    {
      "cell_type": "code",
      "source": [
        "#Q5: Display results\n",
        "print(\"Chi-Square Test Results:\")\n",
        "print(f\"Chi-Square Statistic: {chi2_stat:.4f}\")\n",
        "print(f\"P-Value: {p_value:.4f}\")\n",
        "print(f\"Degrees of Freedom: {dof}\")\n",
        "print(f\"Critical Value: {critical_value:.4f}\")\n",
        "print(f\"Decision: {decision}\")\n",
        "print(f\"Conclusion: {conclusion}\")"
      ],
      "metadata": {
        "colab": {
          "base_uri": "https://localhost:8080/"
        },
        "id": "dCTX4gWlGp4z",
        "outputId": "2d518cf6-7a1a-4b20-aca8-efa27768fdc4"
      },
      "execution_count": 5,
      "outputs": [
        {
          "output_type": "stream",
          "name": "stdout",
          "text": [
            "Chi-Square Test Results:\n",
            "Chi-Square Statistic: 5.6382\n",
            "P-Value: 0.2278\n",
            "Degrees of Freedom: 4\n",
            "Critical Value: 9.4877\n",
            "Decision: Fail to reject the null hypothesis\n",
            "Conclusion: There is no clear link between device type and customer satisfaction.\n"
          ]
        }
      ]
    },
    {
      "cell_type": "code",
      "source": [],
      "metadata": {
        "id": "ZG1_AZy-GqQj"
      },
      "execution_count": null,
      "outputs": []
    }
  ]
}